{
 "cells": [
  {
   "cell_type": "markdown",
   "metadata": {},
   "source": [
    "# Rules of survival\n",
    "\n",
    "### Mini-project\n",
    "\n",
    "In this small project you will use the PRISM Rule Learner algorithm to learn some rules about COVID-19 comorbidity factors. Write as much about your findings as possible. You may add external information/additional datasets for an extra-credit."
   ]
  },
  {
   "cell_type": "markdown",
   "metadata": {},
   "source": [
    "## 1. Algorithm\n",
    "\n",
    "Copy your implementation of the correct and tested algorithm in the cell below. You do not need to supply any comments or explanations. "
   ]
  },
  {
   "cell_type": "code",
   "execution_count": 30,
   "metadata": {},
   "outputs": [],
   "source": [
    "\n",
    "import numpy as np\n",
    "import pandas as pd\n",
    "import math\n",
    "\n",
    "\n",
    "\n",
    "class Rule:\n",
    "    def __init__(self, class_label):\n",
    "        self.conditions = []  # list of conditions\n",
    "        self.class_label = class_label  # rule class\n",
    "        self.accuracy = 0\n",
    "        self.coverage = 0\n",
    "        self.coverage_list =[]  # indexes of the rows this rule covers\n",
    "\n",
    "    def addCondition(self, condition):\n",
    "        self.conditions.append(condition)\n",
    "\n",
    "    def setParams(self, accuracy, coverage, coverage_list):\n",
    "        self.accuracy = accuracy\n",
    "        self.coverage = coverage\n",
    "        self.coverage_list = coverage_list\n",
    "\n",
    "\n",
    "    # Human-readable printing of this Rule\n",
    "    def __repr__(self):\n",
    "        return \"If {} then {}. Coverage:{}, accuracy: {}\".format(self.conditions, self.class_label,\n",
    "                                                                 self.coverage, self.accuracy)\n",
    "\n",
    "\n",
    "class Condition:\n",
    "    def __init__(self, attribute, value, all, true_false=None):\n",
    "        self.attribute = attribute\n",
    "        self.value = value\n",
    "        self.all = all # index of all rows that have this attributes value.\n",
    "        self.true_false = true_false\n",
    "\n",
    "\n",
    "    def __repr__(self):\n",
    "        if self.true_false is None:\n",
    "            return \"{}={}\".format(self.attribute, self.value)\n",
    "        else:\n",
    "            return \"{}>={}:{}\".format(self.attribute, self.value, self.true_false)\n",
    "\n",
    "\n",
    "def parse(data):\n",
    "    # probobly a better way to do this check https://stackoverflow.com/questions/54196959/is-there-any-faster-alternative-to-col-drop-duplicates\n",
    "    new_df = []\n",
    "    [new_df.append(pd.DataFrame(data[i].unique(), columns=[i])) for i in data.columns]\n",
    "    new_df = pd.concat(new_df, axis=1)\n",
    "\n",
    "    columns_list = data.columns.to_numpy().tolist()\n",
    "\n",
    "    class_name = columns_list.pop(-1)\n",
    "\n",
    "    return (new_df,columns_list, class_name)\n",
    "\n",
    "\n",
    "\n",
    "def compare(rule1, rule2, rule_list):\n",
    "\n",
    "    if rule1.accuracy > rule2.accuracy:\n",
    "        rule2 = rule1\n",
    "        rule_list = [rule2]\n",
    "\n",
    "    elif rule1.accuracy == rule2.accuracy:\n",
    "        if rule1.coverage > rule2.coverage:\n",
    "            rule2 = rule1\n",
    "            rule_list = [rule2]\n",
    "\n",
    "        elif rule1.coverage == rule2.coverage:\n",
    "            rule_list.append(rule1)\n",
    "\n",
    "    return rule_list\n",
    "\n",
    "def Copy(x, rule, i ):\n",
    "\n",
    "    rule.class_label = x.class_label\n",
    "\n",
    "    for j in range(i+1):\n",
    "        attribute = x.conditions[j].attribute\n",
    "        value = x.conditions[j].value\n",
    "        all = x.conditions[j].all\n",
    "        true_false = x.conditions[j].true_false\n",
    "\n",
    "        temp = Condition(attribute,  value, all, true_false)\n",
    "        rule.addCondition(temp)\n",
    "\n",
    "    rule.accuracy =x.accuracy\n",
    "    rule.coverage = x.coverage\n",
    "    rule.coverage_list = x.coverage_list\n",
    "\n",
    "    return rule\n",
    "\n",
    "\n",
    "def makeRule(x, subset, all_subset, truefalse, attribute, value, min_coverage, class_label = None, i = 0):\n",
    "\n",
    "    numCount = len(subset)\n",
    "    denCount = len(all_subset)\n",
    "\n",
    "    if denCount == 0 or numCount < min_coverage:\n",
    "        return None\n",
    "\n",
    "    temp_coverage_list = np.array(subset.index)\n",
    "\n",
    "    if x != None:\n",
    "        temp_rule = Rule(None)\n",
    "        temp_rule = Copy(x, temp_rule, i)\n",
    "\n",
    "    else:\n",
    "        temp_rule = Rule(class_label)\n",
    "\n",
    "    temp_cond = Condition(attribute, value, np.array(all_subset.index), truefalse)\n",
    "    temp_rule.addCondition(temp_cond)\n",
    "    temp_rule.accuracy = numCount / denCount\n",
    "    temp_rule.coverage = numCount\n",
    "    temp_rule.coverage_list = temp_coverage_list\n",
    "\n",
    "    return temp_rule\n",
    "\n",
    "\n",
    "def refine_rule(data, column_list, rule_list, un_data, class_name, min_coverage ):\n",
    "\n",
    "\n",
    "    count = 0\n",
    "    while(True):\n",
    "\n",
    "        count+=1\n",
    "\n",
    "        temp = Rule(None)\n",
    "        temp.accuracy = -math.inf\n",
    "        temp.coverage = -math.inf\n",
    "        real_best_rules = [temp]\n",
    "\n",
    "        for x in rule_list:\n",
    "            # This temporarily gets rid of all rows that don't have the attributes of the first conditions.\n",
    "            new_df = data[data.index.isin(x.conditions[count - 1].all)]\n",
    "\n",
    "            if len(new_df.index) >= min_coverage:\n",
    "                Sbest_rules = x\n",
    "                best_rules = [Sbest_rules]\n",
    "\n",
    "                for y in column_list:\n",
    "                    for z in un_data[y]:\n",
    "                        flag = False\n",
    "\n",
    "                        if pd.isnull(z):\n",
    "                            continue\n",
    "\n",
    "                        #Special cases for if the value is numeric\n",
    "                        if isinstance(z, int) or isinstance(z, float):\n",
    "                            flag = True\n",
    "                            subset = new_df[(new_df[y] >= z) & (new_df[class_name] == x)]\n",
    "                            all_subset = new_df[new_df[y] >= z]\n",
    "                            truefalse = True\n",
    "\n",
    "                        else:\n",
    "                            subset =  new_df[( new_df[y] == z) & ( new_df[class_name] == x.class_label)]\n",
    "                            all_subset =  new_df[ new_df[y] == z]\n",
    "                            truefalse = None\n",
    "\n",
    "                        temp_rule =  makeRule(x, subset, all_subset, truefalse, y, z, min_coverage, None, count - 1)\n",
    "                        \n",
    "                        if temp_rule != None:\n",
    "                       \n",
    "                            best_rules = compare(temp_rule, Sbest_rules, best_rules)\n",
    "                            Sbest_rules = best_rules[0]\n",
    "\n",
    "                        \n",
    "                        if flag:\n",
    "\n",
    "                            subset = new_df[(new_df[y] < z) & (new_df[class_name] == x)]\n",
    "                            all_subset = new_df[new_df[y] < z]\n",
    "\n",
    "                            \n",
    "                            temp_rule =  makeRule(x, subset, all_subset, False, y, z, min_coverage, None, count - 1)\n",
    "                            \n",
    "                            if temp_rule != None:\n",
    "\n",
    "                                best_rules = compare(temp_rule, Sbest_rules, best_rules)\n",
    "                                Sbest_rules = best_rules[0]\n",
    "\n",
    "                real_best_rules = compare(best_rules[0], real_best_rules[0], real_best_rules)\n",
    "\n",
    "\n",
    "        if real_best_rules[0].accuracy == 1 or rule_list[0] == real_best_rules[0]:\n",
    "\n",
    "            return real_best_rules[0]\n",
    "\n",
    "\n",
    "        if real_best_rules[0].class_label == None:\n",
    "\n",
    "            return rule_list[0]\n",
    "\n",
    "        rule_list = real_best_rules\n",
    "\n",
    "def find_one_rule(data, un_data, columns_list, class_name, min_accuracy,  min_coverage  ,classAtt = []):\n",
    "\n",
    "    class_list = un_data[class_name].to_numpy().tolist()\n",
    "\n",
    "    if classAtt == []:\n",
    "        classAtt = class_list\n",
    "\n",
    "    Sbest_rules = Rule(None)\n",
    "    Sbest_rules.accuracy = -math.inf\n",
    "    Sbest_rules.coverage = -math.inf\n",
    "    best_rules = [Sbest_rules]\n",
    "\n",
    "    for x in classAtt:\n",
    "        for y in columns_list:\n",
    "            for z in un_data[y]:\n",
    "\n",
    "                flag = False\n",
    "\n",
    "                if pd.isnull(z):\n",
    "                    continue\n",
    "\n",
    "                if isinstance(z, int) or isinstance(z, float):\n",
    "                    flag = True\n",
    "                    subset = data[(data[y] >= z) & (data[class_name] == x)]\n",
    "                    all_subset = data[data[y] >= z]\n",
    "                    truefalse = True\n",
    "\n",
    "                else:\n",
    "\n",
    "                    subset = data[(data[y] == z) & (data[class_name] == x)]\n",
    "                    all_subset = data[data[y] == z]\n",
    "                    truefalse = None\n",
    "\n",
    "                temp_rule = makeRule(None, subset, all_subset, truefalse, y, z, min_coverage, x)\n",
    "\n",
    "                if temp_rule != None:\n",
    "\n",
    "                    best_rules = compare(temp_rule, Sbest_rules, best_rules)\n",
    "                    Sbest_rules = best_rules[0]\n",
    "\n",
    "                \n",
    "                if flag:\n",
    "\n",
    "                    subset = data[(data[y] < z) & (data[class_name] == x)]\n",
    "                    all_subset = data[data[y] < z]\n",
    "\n",
    "                    temp_rule = makeRule(None, subset, all_subset, False, y, z, min_coverage, x)\n",
    "\n",
    "                    if temp_rule != None:\n",
    "\n",
    "                        best_rules = compare(temp_rule, Sbest_rules, best_rules)\n",
    "                        Sbest_rules = best_rules[0]\n",
    "\n",
    "    if best_rules[0].accuracy == 1 and best_rules[0].coverage >= min_coverage:\n",
    "        return best_rules[0]\n",
    "\n",
    "    rule = refine_rule(data, columns_list, best_rules, un_data,   class_name, min_coverage)\n",
    "\n",
    "    if rule.accuracy >= min_accuracy and rule.coverage >= min_coverage:\n",
    "        return rule\n",
    "\n",
    "    return None\n",
    "\n",
    "\n",
    "def find_rules(data, un_data, columns_list, class_name, classAtt = [], min_accuracy = 1,  min_coverage = 1):\n",
    "\n",
    "    rule_list = []\n",
    "    temp = Rule(None)\n",
    "    flag = 1\n",
    "    while(flag):\n",
    "\n",
    "        temp = find_one_rule(data, un_data, columns_list, class_name, min_accuracy,  min_coverage , classAtt)\n",
    "\n",
    "        if temp == None:\n",
    "            break\n",
    "        rule_list.append(temp)\n",
    "\n",
    "        data = data[~data.index.isin(temp.coverage_list)]\n",
    "\n",
    "        if data.empty:\n",
    "            flag = 0\n",
    "\n",
    "\n",
    "    return rule_list\n",
    "\n"
   ]
  },
  {
   "cell_type": "markdown",
   "metadata": {},
   "source": [
    "## 2. Titanic dataset: the rules of survival"
   ]
  },
  {
   "cell_type": "markdown",
   "metadata": {},
   "source": [
    "Our very familiar Titanic [dataset](https://docs.google.com/spreadsheets/d/1QGNxqRU02eAvTGih1t0cErB5R05mdOdUBgJZACGcuvs/edit?usp=sharing)."
   ]
  },
  {
   "cell_type": "code",
   "execution_count": 43,
   "metadata": {},
   "outputs": [],
   "source": [
    "data_file = \"../titanic.csv - titanic.csv\""
   ]
  },
  {
   "cell_type": "code",
   "execution_count": 44,
   "metadata": {},
   "outputs": [
    {
     "name": "stdout",
     "output_type": "stream",
     "text": [
      "Total rows 714\n",
      "Columns: ['Pclass', 'Sex', 'Age', 'Survived']\n"
     ]
    }
   ],
   "source": [
    "data = pd.read_csv(data_file)\n",
    "\n",
    "# take a subset of attributes\n",
    "data = data[['Pclass', 'Sex', 'Age', 'Survived']]\n",
    "\n",
    "# drop all columns and rows with missing values\n",
    "data = data.dropna(how=\"any\")\n",
    "print(\"Total rows\", len(data))\n",
    "\n",
    "column_list = data.columns.to_numpy().tolist()\n",
    "print(\"Columns:\", column_list)\n"
   ]
  },
  {
   "cell_type": "code",
   "execution_count": 38,
   "metadata": {},
   "outputs": [
    {
     "name": "stdout",
     "output_type": "stream",
     "text": [
      "If [Sex=male] then 0.0. Coverage:360, accuracy: 0.7947019867549668\n",
      "If [Sex=male] then 1.0. Coverage:93, accuracy: 1.0\n",
      "If [Pclass>=2.0:False] then 1.0. Coverage:82, accuracy: 0.9647058823529412\n",
      "If [Pclass>=3.0:False] then 1.0. Coverage:68, accuracy: 0.8831168831168831\n"
     ]
    }
   ],
   "source": [
    "rule_list = []\n",
    "\n",
    "\n",
    "(unique, columns_list, class_name) = parse(data)\n",
    "\n",
    "rule_list = find_rules(data, unique, columns_list, class_name, [], 0.7, 30 )\n",
    "\n",
    "for rule in rule_list[:10]:\n",
    "    print(rule)"
   ]
  },
  {
   "cell_type": "code",
   "execution_count": 46,
   "metadata": {},
   "outputs": [
    {
     "name": "stdout",
     "output_type": "stream",
     "text": [
      "If [Sex=male] then 0.0. Coverage:360, accuracy: 0.7947019867549668\n"
     ]
    }
   ],
   "source": [
    "# we can set different accuracy thresholds\n",
    "# here we can reorder class labels - to first learn the rules with class label \"survived\".\n",
    "    \n",
    "\n",
    "rule_list = [0.0]\n",
    "\n",
    "\n",
    "(unique, columns_list, class_name) = parse(data)\n",
    "\n",
    "rule_list = find_rules(data, unique, columns_list, class_name, rule_list, 0.7, 30 )\n",
    "\n",
    "for rule in rule_list[:10]:\n",
    "    print(rule)"
   ]
  },
  {
   "cell_type": "markdown",
   "metadata": {},
   "source": [
    "## 3. Coronavirus: symptoms and outcome"
   ]
  },
  {
   "cell_type": "markdown",
   "metadata": {},
   "source": [
    "Coronavirus [dataset](https://drive.google.com/file/d/1uVd09ekR1ArLrA8qN-Xtu4l-FFbmetVy/view?usp=sharing) (preprocessed as outlined [here](rules_motivation.ipynb))."
   ]
  },
  {
   "cell_type": "code",
   "execution_count": 51,
   "metadata": {},
   "outputs": [],
   "source": [
    "data_file = \"covid_categorical_good.csv\""
   ]
  },
  {
   "cell_type": "code",
   "execution_count": 52,
   "metadata": {},
   "outputs": [
    {
     "data": {
      "text/plain": [
       "Index(['sex', 'age', 'diabetes', 'copd', 'asthma', 'imm_supr', 'hypertension',\n",
       "       'cardiovascular', 'obesity', 'renal_chronic', 'tobacco', 'outcome'],\n",
       "      dtype='object')"
      ]
     },
     "execution_count": 52,
     "metadata": {},
     "output_type": "execute_result"
    }
   ],
   "source": [
    "data = pd.read_csv(data_file)\n",
    "data = data.dropna(how=\"any\")\n",
    "data.columns"
   ]
  },
  {
   "cell_type": "markdown",
   "metadata": {},
   "source": [
    "Most accurate rules will have class label \"alive\". There could be too many rules, and we might never get to the class label \"dead\" if we rank them by accuracy. \n",
    "\n",
    "If we want to see which combination of attributes leads to \"dead\", we might want to run the algorithm with only this class label and set the lower accuracy threshold.\n",
    "\n",
    "Remove the _age_ attribute and run your algorithm with parameters shown below."
   ]
  },
  {
   "cell_type": "code",
   "execution_count": 41,
   "metadata": {},
   "outputs": [
    {
     "name": "stdout",
     "output_type": "stream",
     "text": [
      "If [renal_chronic=yes, diabetes=yes, cardiovascular=yes, obesity=no, sex=male, imm_supr=no, hypertension=yes, asthma=no] then dead. Coverage:46, accuracy: 0.6571428571428571\n"
     ]
    }
   ],
   "source": [
    "# We really want to learn first what makes covid deadly\n",
    "class_labels = [\"dead\"]\n",
    "\n",
    "data.drop([\"age\"], axis = 1, inplace = True)\n",
    "\n",
    "(unique, columns_list, class_name) = parse(data)\n",
    "\n",
    "rule_list = find_rules(data, unique, columns_list, class_name, class_labels, 0.6, 30 )\n",
    "for rule in rule_list[:20]:\n",
    "    print(rule)"
   ]
  },
  {
   "cell_type": "code",
   "execution_count": 35,
   "metadata": {},
   "outputs": [
    {
     "name": "stdout",
     "output_type": "stream",
     "text": [
      "If [age>=80:True, renal_chronic=yes, diabetes=yes, hypertension=yes, imm_supr=no, sex=female, tobacco=no] then dead. Coverage:32, accuracy: 0.6037735849056604\n",
      "If [age>=80:True, sex=male, obesity=yes, diabetes=yes, tobacco=no, imm_supr=no, cardiovascular=no, renal_chronic=no] then dead. Coverage:40, accuracy: 0.625\n"
     ]
    }
   ],
   "source": [
    "# We really want to learn first what makes covid deadly\n",
    "class_labels = [\"dead\"]\n",
    "\n",
    "\n",
    "(unique, columns_list, class_name) = parse(data)\n",
    "\n",
    "rule_list = find_rules(data, unique, columns_list, class_name, class_labels, 0.6, 30 )\n",
    "for rule in rule_list[:20]:\n",
    "    print(rule)"
   ]
  },
  {
   "cell_type": "markdown",
   "metadata": {},
   "source": [
    "Now try on both classes and for the entire dataset including _age_. Collect top 20 most accurate rules."
   ]
  },
  {
   "cell_type": "code",
   "execution_count": null,
   "metadata": {},
   "outputs": [],
   "source": [
    "# This may take some time to run (took 12 min on my computer - what about your implementation?)\n",
    "(unique, columns_list, class_name) = parse(data)\n",
    "rule_list = find_rules(data, unique, columns_list, class_name, [], 0.6, 30 )\n",
    "for rule in rule_list[:20]:\n",
    "    print(rule)"
   ]
  },
  {
   "cell_type": "markdown",
   "metadata": {},
   "source": [
    "The following rules are from running my program on my main machine, because the VM dosn't seem capable of running it on such a big dataset. Even on my main machine it took about four hours to run. \n",
    "\n",
    "Results:\n",
    "\n",
    "If [age>=26:False, tobacco=yes, asthma=yes] then alive. Coverage:47, accuracy: 1.0\n",
    "\n",
    "If [age>=26:False, tobacco=yes, sex=female, obesity=yes] then alive. Coverage:83, accuracy: 1.0\n",
    "\n",
    "If [age>=26:False, tobacco=yes, obesity=no, hypertension=no, sex=female] then alive. Coverage:273, accuracy: 0.9963503649635036\n",
    "\n",
    "If [age>=26:False, asthma=yes, obesity=no, sex=female] then alive. Coverage:246, accuracy: 1.0\n",
    "\n",
    "If [age>=29:False, hypertension=no, sex=female, tobacco=yes, obesity=yes] then alive. Coverage:79, accuracy: 1.0\n",
    "\n",
    "If [age>=26:False, hypertension=no, imm_supr=no, sex=female, obesity=no, diabetes=no, renal_chronic=no, cardiovascular=no, tobacco=no] then alive. Coverage:7734, accuracy: 0.9949826321883443\n",
    "\n",
    "If [age>=30:False, tobacco=yes, asthma=yes] then alive. Coverage:53, accuracy: 1.0\n",
    "\n",
    "If [age>=30:False, tobacco=yes, obesity=no, hypertension=no, imm_supr=no, sex=female] then alive. Coverage:333, accuracy: 0.9970059880239521\n",
    "\n",
    "If [age>=30:False, hypertension=no, obesity=no, tobacco=yes, sex=male, renal_chronic=no, imm_supr=no] then alive. Coverage:1392, accuracy: 0.9949964260185847\n",
    "\n",
    "If [age>=30:False, hypertension=no, obesity=no, asthma=yes, renal_chronic=no, sex=male] then alive. Coverage:380, accuracy: 0.9921671018276762\n",
    "\n",
    "If [age>=30:False, hypertension=no, obesity=no, imm_supr=no, diabetes=no, renal_chronic=no, tobacco=no, sex=male, asthma=no, copd=no, cardiovascular=no] then alive. Coverage:13192, accuracy: 0.9903903903903903\n",
    "\n",
    "If [age>=35:False, sex=female, hypertension=no, tobacco=yes, obesity=no, imm_supr=no] then alive. Coverage:469, accuracy: 0.9936440677966102\n",
    "\n",
    "If [age>=35:False, sex=female, hypertension=no, obesity=no, asthma=yes, diabetes=no] then alive. Coverage:485, accuracy: 0.9918200408997955\n",
    "\n",
    "If [age>=35:False, sex=female, hypertension=no, obesity=no, imm_supr=no, diabetes=no, renal_chronic=no, asthma=no, tobacco=no, cardiovascular=no, copd=no] then alive. Coverage:14126, accuracy: 0.9912982456140351\n",
    "\n",
    "If [age>=38:False, tobacco=yes, diabetes=no, sex=female, obesity=yes, hypertension=yes] then alive. Coverage:32, accuracy: 1.0\n",
    "\n",
    "If [age>=38:False, tobacco=yes, diabetes=no, sex=female, obesity=yes, asthma=no] then alive. Coverage:272, accuracy: 0.9890909090909091\n",
    "\n",
    "If [age>=38:False, diabetes=no, tobacco=yes, obesity=no, asthma=yes] then alive. Coverage:33, accuracy: 1.0\n",
    "\n",
    "If [age>=38:False, diabetes=no, tobacco=yes, obesity=no, hypertension=no, sex=female, imm_supr=no] then alive. Coverage:237, accuracy: 0.983402489626556\n",
    "\n",
    "If [age>=38:False, diabetes=no, renal_chronic=no, sex=female, obesity=yes, cardiovascular=yes, hypertension=no] then alive. Coverage:40, accuracy: 1.0\n",
    "\n",
    "If [age>=38:False, diabetes=no, renal_chronic=no, sex=female, obesity=yes, tobacco=no, imm_supr=no, cardiovascular=no, hypertension=yes, asthma=no] then alive. Coverage:238, accuracy: 0.9834710743801653\n"
   ]
  },
  {
   "cell_type": "markdown",
   "metadata": {},
   "source": [
    "## 4. Discussion\n",
    "\n",
    "Write here a discussion about the rules that you have learned from both datasets. \n",
    "\n",
    "Did any of these rules surprise you?\n",
    "\n",
    "Do you have a meaningful logical explanation for these rules?\n",
    "\n",
    "What additional research is needed to understand the meaning of your findings?"
   ]
  },
  {
   "cell_type": "markdown",
   "metadata": {},
   "source": [
    "Copyright &copy; 2022 Marina Barsky. All rights reserved."
   ]
  },
  {
   "cell_type": "markdown",
   "metadata": {},
   "source": [
    "In this project we implemented the PRiSM algorithm. PRiSM is an algorithm for finding rules from a given dataset. We care about rules beacsue it can be very hard to visualize a decision tree so learinig anything from it is nearly impossable. With rules on the other hand we have clear pieces of knowledge we can glean from the data, that can give us useful insight. \n",
    "\n",
    "We can also use rules to classify objects by going down the list of rules and seeing if our object match any of the rules. But we don't really use it for classification as it is less reliable for that, and much more fit for learning localized facts.  \n",
    "\n",
    "The actual algorithm works by divide and separation, where we find the best rule, remove all the rows that rule covers, and then find the next best rule on the rest of the data. More details on the algorithm can be found in the implementation file _PRiSM_algorithm_  \n",
    "\n",
    "\n",
    "For the titanic data all the rules were pretty expected. The first rule is that 79 percent of males died which makes sense. The second rule was abvious becaseu all its really saying is that 21 percent of males survived. The thid rule says that 96.5 percent of the women in first class survived which again makes sense. And the last rule is that 88 percent of women in second class survived, which is mostly expected. \n",
    "\n",
    "\n",
    "The covid-19 data when filtered for \"dead\" rules, was suprising in that there werent any good rules. There was only one rule with a 65 percent accuracy and 46 coverage, that associated death with some of the more severe probloms like diabetes. If we did not take out age then the results were basically that over the age of 88 with some other problems resulted in death, which again makes sense. \n",
    "\n",
    "The unfiltered covid-19 data had a little more interesting result. The main indicator for living seems to be age as the top 20 rules are for age less then 38. This makes sense and is a known fact about covid. More interesting is that yes to smoking appears in 12 out of the top 20 rules, including the top three rules. This is very suprising as we would naturally assume that smoking makes covid worse not better. \n",
    "\n",
    "Of course more thought into what data distribution we started out with is needed to really analyze these rules. For eacmple if most of the people were smokers then it would make more sense that smoking is appears in many rules. Additinally we would need to look at data from patients with the same attributes, but without covid, to varify that the survived status is at all related to covid. \n",
    "\n"
   ]
  },
  {
   "cell_type": "code",
   "execution_count": null,
   "metadata": {},
   "outputs": [],
   "source": []
  }
 ],
 "metadata": {
  "kernelspec": {
   "display_name": "Python 3",
   "language": "python",
   "name": "python3"
  },
  "language_info": {
   "codemirror_mode": {
    "name": "ipython",
    "version": 3
   },
   "file_extension": ".py",
   "mimetype": "text/x-python",
   "name": "python",
   "nbconvert_exporter": "python",
   "pygments_lexer": "ipython3",
   "version": "3.7.6"
  }
 },
 "nbformat": 4,
 "nbformat_minor": 4
}
